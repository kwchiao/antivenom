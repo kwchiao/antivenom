{
 "cells": [
  {
   "cell_type": "code",
   "execution_count": 2,
   "metadata": {
    "colab": {
     "base_uri": "https://localhost:8080/",
     "height": 124
    },
    "colab_type": "code",
    "executionInfo": {
     "elapsed": 25516,
     "status": "ok",
     "timestamp": 1560488338624,
     "user": {
      "displayName": "Tzu-Yu Chao",
      "photoUrl": "",
      "userId": "06495158750541729419"
     },
     "user_tz": 420
    },
    "id": "ErWdIs1P4Mlg",
    "outputId": "e876946b-0474-49c0-8724-1e9fa985d23b"
   },
   "outputs": [
    {
     "name": "stdout",
     "output_type": "stream",
     "text": [
      "Go to this URL in a browser: https://accounts.google.com/o/oauth2/auth?client_id=947318989803-6bn6qk8qdgf4n4g3pfee6491hc0brc4i.apps.googleusercontent.com&redirect_uri=urn%3Aietf%3Awg%3Aoauth%3A2.0%3Aoob&scope=email%20https%3A%2F%2Fwww.googleapis.com%2Fauth%2Fdocs.test%20https%3A%2F%2Fwww.googleapis.com%2Fauth%2Fdrive%20https%3A%2F%2Fwww.googleapis.com%2Fauth%2Fdrive.photos.readonly%20https%3A%2F%2Fwww.googleapis.com%2Fauth%2Fpeopleapi.readonly&response_type=code\n",
      "\n",
      "Enter your authorization code:\n",
      "··········\n",
      "Mounted at /content/gdrive\n"
     ]
    }
   ],
   "source": [
    "from google.colab import drive\n",
    "drive.mount('/content/gdrive')"
   ]
  },
  {
   "cell_type": "code",
   "execution_count": 0,
   "metadata": {
    "colab": {},
    "colab_type": "code",
    "id": "JI581wRc4v3E"
   },
   "outputs": [],
   "source": [
    "import sys\n",
    "path = '/content/gdrive/Team Drives/cs273p project'\n",
    "sys.path.append(path)"
   ]
  },
  {
   "cell_type": "code",
   "execution_count": 4,
   "metadata": {
    "colab": {
     "base_uri": "https://localhost:8080/",
     "height": 52
    },
    "colab_type": "code",
    "executionInfo": {
     "elapsed": 4934,
     "status": "ok",
     "timestamp": 1560488340505,
     "user": {
      "displayName": "Tzu-Yu Chao",
      "photoUrl": "",
      "userId": "06495158750541729419"
     },
     "user_tz": 420
    },
    "id": "XQDPJRyT44-b",
    "outputId": "1e722265-7395-4e3e-ff34-858ed010efac"
   },
   "outputs": [
    {
     "name": "stdout",
     "output_type": "stream",
     "text": [
      "[nltk_data] Downloading package wordnet to /root/nltk_data...\n",
      "[nltk_data]   Unzipping corpora/wordnet.zip.\n"
     ]
    }
   ],
   "source": [
    "%matplotlib inline\n",
    "import numpy as np\n",
    "import pandas as pd\n",
    "import seaborn as sns\n",
    "from matplotlib import pyplot as plt\n",
    "\n",
    "\n",
    "import re\n",
    "from nltk.stem import WordNetLemmatizer \n",
    "import nltk\n",
    "nltk.download('wordnet') \n",
    "\n",
    "from sklearn.feature_extraction.text import TfidfVectorizer\n",
    "from scipy.sparse import csr_matrix, hstack\n",
    "from sklearn.model_selection import cross_validate\n",
    "from sklearn.linear_model import LogisticRegression\n",
    "from sklearn.metrics import roc_auc_score\n",
    "\n",
    "# import data_loader\n"
   ]
  },
  {
   "cell_type": "code",
   "execution_count": 0,
   "metadata": {
    "colab": {},
    "colab_type": "code",
    "id": "pgbHl3Pb5Klu"
   },
   "outputs": [],
   "source": [
    "train_file_path = path + '/data/train.csv'\n",
    "test_file_path = path + '/data/test.csv'\n",
    "test_label_file_path = path + '/data/test_labels.csv'\n",
    "\n",
    "train_df, valid_df = data_loader.load_train_data(train_file_path, valid_rate=0.1, is_df=True)\n",
    "test_df = data_loader.load_test_data(test_file_path, test_label_file_path, is_df=True)"
   ]
  },
  {
   "cell_type": "code",
   "execution_count": 0,
   "metadata": {
    "colab": {
     "base_uri": "https://localhost:8080/",
     "height": 69
    },
    "colab_type": "code",
    "executionInfo": {
     "elapsed": 3855,
     "status": "ok",
     "timestamp": 1559615824319,
     "user": {
      "displayName": "Tzu-Yu Chao",
      "photoUrl": "",
      "userId": "06495158750541729419"
     },
     "user_tz": 420
    },
    "id": "Ox0p6FAJ6T3X",
    "outputId": "769de22f-6a95-41d9-8d20-abe23235da69"
   },
   "outputs": [
    {
     "name": "stdout",
     "output_type": "stream",
     "text": [
      "train_df.shape:  (143645, 8)\n",
      "valid_df.shape:  (15926, 8)\n",
      "test_df.shape:  (63978, 8)\n"
     ]
    }
   ],
   "source": [
    "print(\"train_df.shape: \", train_df.shape)\n",
    "print(\"valid_df.shape: \", valid_df.shape)\n",
    "print(\"test_df.shape: \", test_df.shape) "
   ]
  },
  {
   "cell_type": "markdown",
   "metadata": {
    "colab_type": "text",
    "id": "JzTCktSnkuxh"
   },
   "source": [
    "# Load saved data"
   ]
  },
  {
   "cell_type": "code",
   "execution_count": 0,
   "metadata": {
    "colab": {},
    "colab_type": "code",
    "id": "OW6Ed-YLk7wt"
   },
   "outputs": [],
   "source": [
    "import pickle\n",
    "\n",
    "def saveobj(save_list, filename):\n",
    "    with open(path + '/' + filename, 'wb') as f:  # Python 3: open(..., 'wb')\n",
    "        pickle.dump(save_list, f)\n",
    "        \n",
    "# restore object        \n",
    "def loadobj(filename):\n",
    "    with open(path + '/' + filename, 'rb') as f:  # Python 3: open(..., 'rb')\n",
    "        li = pickle.load(f)\n",
    "    return li"
   ]
  },
  {
   "cell_type": "code",
   "execution_count": 0,
   "metadata": {
    "colab": {},
    "colab_type": "code",
    "id": "vXkiYewM5MaF"
   },
   "outputs": [],
   "source": [
    "classes = ['toxic', 'severe_toxic', 'obscene', 'threat', 'insult', 'identity_hate']"
   ]
  },
  {
   "cell_type": "code",
   "execution_count": 0,
   "metadata": {
    "colab": {},
    "colab_type": "code",
    "id": "QdOPHDqzkuHA"
   },
   "outputs": [],
   "source": [
    "train_df, valid_df, test_df = loadobj('data/filtered_comment_pickle')"
   ]
  },
  {
   "cell_type": "markdown",
   "metadata": {
    "colab_type": "text",
    "id": "vfJ6pAuATTSf"
   },
   "source": [
    "## Preprocessed Visualization\n",
    "1. any missing values \"null\"\n",
    "\n",
    "2. Statistics of each class \n",
    "   - percentage\n",
    "      - not labeled\n",
    "      - each class\n",
    "      \n",
    "3. correlation between classes\n",
    "   - heatmap \n",
    "       - filter out all zero comment\n",
    "       - compare among classes"
   ]
  },
  {
   "cell_type": "markdown",
   "metadata": {
    "colab_type": "text",
    "id": "p1YPkXJsX3iU"
   },
   "source": [
    "No any missing values from the trainning data"
   ]
  },
  {
   "cell_type": "code",
   "execution_count": 0,
   "metadata": {
    "colab": {
     "base_uri": "https://localhost:8080/",
     "height": 173
    },
    "colab_type": "code",
    "executionInfo": {
     "elapsed": 3845,
     "status": "ok",
     "timestamp": 1559615824319,
     "user": {
      "displayName": "Tzu-Yu Chao",
      "photoUrl": "",
      "userId": "06495158750541729419"
     },
     "user_tz": 420
    },
    "id": "gOhMOmQMVmmm",
    "outputId": "8e5d6c34-541d-44f3-c663-481d60bbcbe8"
   },
   "outputs": [
    {
     "data": {
      "text/plain": [
       "id               False\n",
       "comment_text     False\n",
       "toxic            False\n",
       "severe_toxic     False\n",
       "obscene          False\n",
       "threat           False\n",
       "insult           False\n",
       "identity_hate    False\n",
       "dtype: bool"
      ]
     },
     "execution_count": 7,
     "metadata": {
      "tags": []
     },
     "output_type": "execute_result"
    }
   ],
   "source": [
    "train_df.isnull().any()"
   ]
  },
  {
   "cell_type": "markdown",
   "metadata": {
    "colab_type": "text",
    "id": "HsTwHt-eY7_1"
   },
   "source": [
    "Probability of each class being 1"
   ]
  },
  {
   "cell_type": "code",
   "execution_count": 0,
   "metadata": {
    "colab": {
     "base_uri": "https://localhost:8080/",
     "height": 139
    },
    "colab_type": "code",
    "executionInfo": {
     "elapsed": 3832,
     "status": "ok",
     "timestamp": 1559615824320,
     "user": {
      "displayName": "Tzu-Yu Chao",
      "photoUrl": "",
      "userId": "06495158750541729419"
     },
     "user_tz": 420
    },
    "id": "Sw6-u4eVYTm5",
    "outputId": "b3d4e1ff-69bf-4d52-a16c-a82b77a79031"
   },
   "outputs": [
    {
     "data": {
      "text/plain": [
       "toxic            0.096084\n",
       "severe_toxic     0.010018\n",
       "obscene          0.053277\n",
       "threat           0.003021\n",
       "insult           0.049664\n",
       "identity_hate    0.008786\n",
       "dtype: float64"
      ]
     },
     "execution_count": 8,
     "metadata": {
      "tags": []
     },
     "output_type": "execute_result"
    }
   ],
   "source": [
    "train_df[classes].mean() "
   ]
  },
  {
   "cell_type": "code",
   "execution_count": 0,
   "metadata": {
    "colab": {
     "base_uri": "https://localhost:8080/",
     "height": 35
    },
    "colab_type": "code",
    "executionInfo": {
     "elapsed": 3955,
     "status": "ok",
     "timestamp": 1559615824452,
     "user": {
      "displayName": "Tzu-Yu Chao",
      "photoUrl": "",
      "userId": "06495158750541729419"
     },
     "user_tz": 420
    },
    "id": "BvSiJwowZIaY",
    "outputId": "1e5d5718-57ff-45eb-eaa4-022da05bba82"
   },
   "outputs": [
    {
     "name": "stdout",
     "output_type": "stream",
     "text": [
      "Probability of non toxic comment is 89.80890389501897%\n"
     ]
    }
   ],
   "source": [
    "nonToxicProb = (train_df[classes] == 0).all(axis = 1).mean() * 100\n",
    "print(\"Probability of non toxic comment is {}%\".format(nonToxicProb))"
   ]
  },
  {
   "cell_type": "code",
   "execution_count": 0,
   "metadata": {
    "colab": {
     "base_uri": "https://localhost:8080/",
     "height": 355
    },
    "colab_type": "code",
    "executionInfo": {
     "elapsed": 4224,
     "status": "ok",
     "timestamp": 1559615824728,
     "user": {
      "displayName": "Tzu-Yu Chao",
      "photoUrl": "",
      "userId": "06495158750541729419"
     },
     "user_tz": 420
    },
    "id": "iGLHXBJAa_R8",
    "outputId": "4c93772b-220e-4ee0-a2c1-f14db3c94a8f"
   },
   "outputs": [
    {
     "data": {
      "text/plain": [
       "Text(0.5, 1.0, 'Classes correlation')"
      ]
     },
     "execution_count": 10,
     "metadata": {
      "tags": []
     },
     "output_type": "execute_result"
    },
    {
     "data": {
      "image/png": "[encoded data removed]",
      "text/plain": [
       "<Figure size 432x288 with 2 Axes>"
      ]
     },
     "metadata": {
      "tags": []
     },
     "output_type": "display_data"
    }
   ],
   "source": [
    "cls_corr = train_df[classes].corr()\n",
    "color = plt.cm.viridis\n",
    "sns.heatmap(cls_corr, cmap = color)\n",
    "plt.title(\"Classes correlation\")"
   ]
  },
  {
   "cell_type": "markdown",
   "metadata": {
    "colab_type": "text",
    "id": "B4Hr23nRim1O"
   },
   "source": [
    "The heatmap above shows stronger correlation among:\n",
    "(toxic, obscene,  insult)\n",
    "\n",
    "Then,  those classes have  a weaker correlation to severe_toxic\n",
    "\n",
    "The identity_hate and threat have the weakest correlation to other classes"
   ]
  },
  {
   "cell_type": "markdown",
   "metadata": {
    "colab_type": "text",
    "id": "cHU7cbdRAzzA"
   },
   "source": [
    "## Preprocessing\n",
    "\n",
    "### Text Cleaning\n",
    "1. Lowercasing\n",
    "2. Remove punctuation\n",
    "3. Remove marginal white space or newline\n",
    "      - strip left and right\n",
    "      - \\n\n",
    "4. Remove stop words\n",
    "5. Lemmatization\n",
    "\n",
    "### After clean up, remove empty string"
   ]
  },
  {
   "cell_type": "code",
   "execution_count": 0,
   "metadata": {
    "colab": {},
    "colab_type": "code",
    "id": "ukT_SaT5IrBr"
   },
   "outputs": [],
   "source": [
    "lemtzr = WordNetLemmatizer() \n",
    "\n",
    "def dataCleaning(row, lower = False):\n",
    "  txt = row['comment_text']\n",
    "  if lower:\n",
    "    txt = txt.lower() \n",
    "  \n",
    "  ## expand contraction \n",
    "  ## code from https://stackoverflow.com/questions/19790188/expanding-english-language-contractions-in-python\n",
    "  txt = re.sub(r\"won\\'t\", \"will not\", txt)\n",
    "  txt = re.sub(r\"can\\'t\", \"can not\", txt)\n",
    "  txt = re.sub(r\"n\\'t\", \" not\", txt)\n",
    "  txt = re.sub(r\"\\'re\", \" are\", txt)\n",
    "  txt = re.sub(r\"\\'s\", \" is\", txt)\n",
    "  txt = re.sub(r\"\\'d\", \" would\", txt)\n",
    "  txt = re.sub(r\"\\'ll\", \" will\", txt)\n",
    "  txt = re.sub(r\"\\'t\", \" not\", txt)\n",
    "  txt = re.sub(r\"\\'ve\", \" have\", txt)\n",
    "  txt = re.sub(r\"\\'m\", \" am\", txt)\n",
    "  \n",
    "  txt = re.sub('\\W', ' ', txt)                                                  # remove non word characters\n",
    "  txt = re.sub('\\s+', ' ', txt)                                                 # remove white spaces\n",
    "  \n",
    "  txt = ' '.join([lemtzr.lemmatize(wrd) for wrd in txt.split(' ')])             # lemmatize\n",
    "  return txt.strip()\n",
    "\n"
   ]
  },
  {
   "cell_type": "code",
   "execution_count": 0,
   "metadata": {
    "colab": {},
    "colab_type": "code",
    "id": "grFbHd9FTSem"
   },
   "outputs": [],
   "source": [
    "train_df['filt_comment'] = train_df.apply(dataCleaning, axis = 1)\n",
    "valid_df['filt_comment'] = valid_df.apply(dataCleaning, axis = 1)\n",
    "test_df['filt_comment'] = test_df.apply(dataCleaning, axis = 1)"
   ]
  },
  {
   "cell_type": "markdown",
   "metadata": {
    "colab_type": "text",
    "id": "H4_z5fbFj-18"
   },
   "source": [
    "## Vectorized and Transform "
   ]
  },
  {
   "cell_type": "code",
   "execution_count": 0,
   "metadata": {
    "colab": {},
    "colab_type": "code",
    "id": "sKEjR3Oyrabe"
   },
   "outputs": [],
   "source": [
    "train_txt = train_df.filt_comment\n",
    "valid_txt = valid_df.filt_comment\n",
    "test_txt = test_df.filt_comment"
   ]
  },
  {
   "cell_type": "code",
   "execution_count": 0,
   "metadata": {
    "colab": {},
    "colab_type": "code",
    "id": "0tDc4GpYkGRC"
   },
   "outputs": [],
   "source": [
    "word_vect = TfidfVectorizer(analyzer = 'word',\n",
    "                            token_pattern = '\\w+',\n",
    "                            stop_words = 'english',\n",
    "                            lowercase = True,\n",
    "                            strip_accents='unicode',\n",
    "                            sublinear_tf=True,\n",
    "                            max_features = 10000)  \n",
    "\n",
    "train_wrd = word_vect.fit_transform(train_txt)\n",
    "valid_wrd = word_vect.transform(valid_txt)\n",
    "test_wrd = word_vect.transform(test_txt)"
   ]
  },
  {
   "cell_type": "code",
   "execution_count": 0,
   "metadata": {
    "colab": {},
    "colab_type": "code",
    "id": "q3yeHY4OuzP6"
   },
   "outputs": [],
   "source": [
    "char_vect = TfidfVectorizer(analyzer = 'char',\n",
    "                            stop_words = 'english',\n",
    "                            lowercase = True,\n",
    "                            ngram_range = (3, 6),\n",
    "                            strip_accents='unicode',\n",
    "                            sublinear_tf=True,\n",
    "                            max_features = 10000)\n",
    "  \n",
    "\n",
    "train_char = char_vect.fit_transform(train_txt)\n",
    "valid_char = char_vect.transform(valid_txt)\n",
    "test_char = char_vect.transform(test_txt)"
   ]
  },
  {
   "cell_type": "code",
   "execution_count": 0,
   "metadata": {
    "colab": {},
    "colab_type": "code",
    "id": "oB3zPlxFzaUw"
   },
   "outputs": [],
   "source": [
    "train_X = hstack([train_wrd, train_char])\n",
    "valid_X = hstack([valid_wrd, valid_char])\n",
    "test_X = hstack([test_wrd, test_char])\n"
   ]
  },
  {
   "cell_type": "markdown",
   "metadata": {
    "colab_type": "text",
    "id": "BcsLfI2G37oY"
   },
   "source": [
    "## Model\n",
    "Other options might include feature design, or optimizing your models to deal with special aspects of the data (missing features, too many features, large numbers of zeros in the data; possible outlier data; etc.). Your report should describe what aspects you chose to focus on."
   ]
  },
  {
   "cell_type": "markdown",
   "metadata": {
    "colab_type": "text",
    "id": "5Uset3Xbi1h5"
   },
   "source": [
    "Find optimal regularization coefficient:"
   ]
  },
  {
   "cell_type": "code",
   "execution_count": 0,
   "metadata": {
    "colab": {},
    "colab_type": "code",
    "id": "JKfbnDZX4zHs"
   },
   "outputs": [],
   "source": [
    "reg_coeff = [0.1, 0.3, 0.5, 0.7, 1, 1.5, 2, 2.5]\n",
    "train_scores = np.zeros((len(classes), len(reg_coeff)))\n",
    "valid_scores = np.zeros((len(classes), len(reg_coeff)))\n",
    "\n",
    "testfile = \"/output/logistic/reg_coef_test.pickle\"\n",
    "trainfile = \"/output/logistic/reg_coef_train.pickle\"\n",
    "\n",
    "\n",
    "for reg_ind, reg in enumerate(reg_coeff):\n",
    "  for cls_ind, clas in enumerate(classes):\n",
    "    print(\"reg: {}, class: {}\".format(reg, clas))\n",
    "    classifier = LogisticRegression(C = 1/reg, solver='sag') #, random_state = i \n",
    "    \n",
    "    \n",
    "    classifier.fit(train_X, train_df[clas])\n",
    "    train_pred_Y = classifier.predict_proba(train_X)[:,1]\n",
    "    valid_pred_Y = classifier.predict_proba(valid_X)[:,1]\n",
    "    \n",
    "    train_scores[cls_ind][reg_ind] = roc_auc_score(train_df[clas], train_pred_Y)\n",
    "    valid_scores[cls_ind][reg_ind] = roc_auc_score(valid_df[clas], valid_pred_Y)\n",
    "    \n",
    "    saveobj(train_scores, trainfile)\n",
    "    saveobj(valid_scores, testfile)"
   ]
  },
  {
   "cell_type": "code",
   "execution_count": 0,
   "metadata": {
    "colab": {
     "base_uri": "https://localhost:8080/",
     "height": 1709
    },
    "colab_type": "code",
    "executionInfo": {
     "elapsed": 2465211,
     "status": "ok",
     "timestamp": 1559618285777,
     "user": {
      "displayName": "Tzu-Yu Chao",
      "photoUrl": "",
      "userId": "06495158750541729419"
     },
     "user_tz": 420
    },
    "id": "KUI4Hi8PYews",
    "outputId": "dae34c21-8c69-4234-847c-8f0419184249"
   },
   "outputs": [
    {
     "data": {
      "image/png": "[encoded data removed]",
      "text/plain": [
       "<Figure size 720x2160 with 6 Axes>"
      ]
     },
     "metadata": {
      "tags": []
     },
     "output_type": "display_data"
    }
   ],
   "source": [
    "fig, ax = plt.subplots(6, 1, figsize = (10, 30))\n",
    "\n",
    "for cls_ind, clas in enumerate(classes):\n",
    "  ax[cls_ind].plot(reg_coeff, train_scores[cls_ind], '-o')\n",
    "  ax[cls_ind].plot(reg_coeff, valid_scores[cls_ind], '-o')\n",
    "  ax[cls_ind].set_title(clas)\n",
    "  ax[cls_ind].set_ylabel(\"auc score\")\n",
    "  ax[cls_ind].set_xlabel(\"reg coefficient\")\n",
    "  ax[cls_ind].legend(['train', 'validation'])\n",
    " "
   ]
  },
  {
   "cell_type": "markdown",
   "metadata": {
    "colab_type": "text",
    "id": "FJZOadvyvTpV"
   },
   "source": [
    "These plots indicates that the optimized regularization coefficients are different for each classes. Therefore, we decided to use different alpha for each classes. We selected alpha, which produces the highest validation score.\n",
    "\n",
    "*  toxic:                  1\n",
    "*  severe_toxic:    2\n",
    "*  obscene:           1\n",
    "*  threat:                2.5\n",
    "*  insult:                 1.5 \n",
    "*  identity_hate:    2\n",
    "\n"
   ]
  },
  {
   "cell_type": "markdown",
   "metadata": {
    "colab_type": "text",
    "id": "rSoSvtBKwoFg"
   },
   "source": [
    "## Binary Model Perdiction \n",
    "(reference: https://www.kaggle.com/tunguz/logistic-regression-with-words-and-char-n-grams)"
   ]
  },
  {
   "cell_type": "code",
   "execution_count": 0,
   "metadata": {
    "colab": {
     "base_uri": "https://localhost:8080/",
     "height": 156
    },
    "colab_type": "code",
    "executionInfo": {
     "elapsed": 247492,
     "status": "ok",
     "timestamp": 1560142158520,
     "user": {
      "displayName": "Tzu-Yu Chao",
      "photoUrl": "",
      "userId": "06495158750541729419"
     },
     "user_tz": 420
    },
    "id": "KzeIpd1prEIn",
    "outputId": "b33ddee3-e818-4bb7-a794-575271b05896"
   },
   "outputs": [
    {
     "name": "stdout",
     "output_type": "stream",
     "text": [
      "toxic: train_score 0.9883978337049395, valid_score 0.9726290899391925, test_scores 0.9627031795615065\n",
      "severe_toxic: train_score 0.9929839740461274, valid_score 0.9849401655203811, test_scores 0.9865834302731645\n",
      "obscene: train_score 0.9953035588361027, valid_score 0.9887869619080201, test_scores 0.9760321887020712\n",
      "threat: train_score 0.9952398553943174, valid_score 0.98381815892205, test_scores 0.9911824647151058\n",
      "insult: train_score 0.9894884270702584, valid_score 0.9812662812919706, test_scores 0.9708519626906256\n",
      "identity_hate: train_score 0.9912865344452247, valid_score 0.9860095552929615, test_scores 0.9844130449569626\n",
      "\n",
      "avg: train_score identity_hate, valid_score 0.9912865344452247, test_scores 0.9860095552929615\n"
     ]
    }
   ],
   "source": [
    "classifier_name = 'logistic'\n",
    "\n",
    "cls_reg_coeff = {'toxic': 1, \"severe_toxic\": 2, \"obscene\": 1, \"threat\": 2.5, \"insult\": 1.5, \"identity_hate\": 2}\n",
    "\n",
    "train_scores = np.zeros(len(classes))\n",
    "valid_scores = np.zeros(len(classes))\n",
    "test_scores  = np.zeros(len(classes))\n",
    "\n",
    "valid_predict = pd.DataFrame.from_dict({'id': valid_df['id']})\n",
    "test_predict = pd.DataFrame.from_dict({'id': test_df['id']})\n",
    "\n",
    "bin_valid_predict = pd.DataFrame.from_dict({'id': valid_df['id']})\n",
    "bin_test_predict = pd.DataFrame.from_dict({'id': test_df['id']})\n",
    "\n",
    "\n",
    "for cls_ind, clas in enumerate(classes):  \n",
    "  reg = cls_reg_coeff[clas]\n",
    "  classifier = LogisticRegression(C = 1/reg, solver='sag') #, random_state = i \n",
    "  \n",
    "  classifier.fit(train_X, train_df[clas])\n",
    "  train_pred_Y = classifier.predict_proba(train_X)[:,1]\n",
    "  valid_predict[clas] = classifier.predict_proba(valid_X)[:,1]\n",
    "  test_predict[clas] = classifier.predict_proba(test_X)[:,1]\n",
    "\n",
    "\n",
    "  bin_valid_predict[clas] = classifier.predict(valid_X)\n",
    "  bin_test_predict[clas] = classifier.predict(test_X)\n",
    "\n",
    "  train_scores[cls_ind] = roc_auc_score(train_df[clas], train_pred_Y)\n",
    "  valid_scores[cls_ind] = roc_auc_score(valid_df[clas], valid_predict[clas])\n",
    "  test_scores[cls_ind]  = roc_auc_score(test_df[clas], test_predict[clas])\n",
    "\n",
    "  print(\"{}: train_score {}, valid_score {}, test_scores {}\".format(clas,\\\n",
    "                                                                    train_scores[cls_ind], valid_scores[cls_ind],\n",
    "                                                                    test_scores[cls_ind]) )\n",
    "print(\"\\navg: train_score {}, valid_score {}, test_scores {}\".format(clas,\\\n",
    "                                                                np.mean(train_scores[cls_ind]), np.mean(valid_scores[cls_ind]),\n",
    "                                                                np.mean(test_scores[cls_ind])) )\n",
    "\n",
    "test_predict.to_csv(path + \"/output/{}/prob_{}_test_submission.csv\".format(classifier_name, classifier_name))\n",
    "valid_predict.to_csv(path + \"/output/{}/prob_{}_valid_submission.csv\".format(classifier_name, classifier_name))\n",
    "\n",
    "bin_test_predict.to_csv(path + \"/output/{}/bin_{}_test_submission.csv\".format(classifier_name, classifier_name))\n",
    "bin_valid_predict.to_csv(path + \"/output/{}/bin_{}_valid_submission.csv\".format(classifier_name, classifier_name))\n",
    "  "
   ]
  },
  {
   "cell_type": "markdown",
   "metadata": {
    "colab_type": "text",
    "id": "rVSzBUm2unYc"
   },
   "source": [
    "## Chain Logistic\n",
    "The heapmap above shows strong correlation among toxic, obscene, insult classes. Therefore, we design a model to allow previous prediction to influence later prediction on other classes to improve the accuracy of our prediction. \n",
    "Since the heatmap shows stronger correlation between \n",
    "\n",
    "*  'toxic'\n",
    "*  'obscene'\n",
    "*  'insult' \n",
    "\n",
    "We decide to use chained classifier to strengthen the prediction of those classes. \n",
    "We used compressed sparse row matrix to provide efficent way to store data.\n",
    "The class \"toxic\" has the lowest scores from binary classification. Therefore, we used the predicted result of 'obscene' and 'insult'  as the input feature to predict the toxic class.\n",
    "\n",
    "(reference: https://www.kaggle.com/rhodiumbeng/classifying-multi-label-comments-0-9741-lb/output?fbclid=IwAR3h0mIamwhtqvb3Zpr1Sm7oofKGOWp0LYujV1XIyDCqftw9ulo_2QzzO7E)"
   ]
  },
  {
   "cell_type": "markdown",
   "metadata": {
    "colab_type": "text",
    "id": "NhEmxNbfRcmq"
   },
   "source": [
    "## Regularization"
   ]
  },
  {
   "cell_type": "code",
   "execution_count": 0,
   "metadata": {
    "colab": {},
    "colab_type": "code",
    "id": "goCwwTY7Qnbr"
   },
   "outputs": [],
   "source": [
    "reordered_cls = ['obscene', 'insult', 'toxic']\n",
    "\n",
    "reg_coeff = [0.1, 0.3, 0.5, 0.7, 1, 1.5, 2, 2.5]\n",
    "chain_train_scores = np.zeros((len(reordered_cls), len(reg_coeff)))\n",
    "chain_valid_scores = np.zeros((len(reordered_cls), len(reg_coeff)))\n",
    "\n",
    "testfile = \"/output/logistic/chain_reg_coef_test.pickle\"\n",
    "trainfile = \"/output/logistic/chain_reg_coef_train.pickle\"\n",
    "\n",
    "\n",
    "add_chain_feat = lambda X, new_feat: hstack([X, csr_matrix(new_feat).T], 'csr')\n",
    "\n",
    "for reg_ind, reg in enumerate(reg_coeff):\n",
    "  _train_X, _valid_X = train_X, valid_X\n",
    "  \n",
    "  for cls_ind, clas in enumerate(reordered_cls):\n",
    "    \n",
    "    print('reg: {}, clas: {}'.format(reg, clas))\n",
    "    classifier = LogisticRegression(C = 1/reg, solver='sag') #, random_state = i \n",
    "\n",
    "    classifier.fit(_train_X, train_df[clas])\n",
    "    train_pred_Y = classifier.predict_proba(_train_X)[:, 1]\n",
    "    valid_pred_Y = classifier.predict_proba(_valid_X)[:, 1]\n",
    "\n",
    "    _train_X = add_chain_feat(_train_X, train_df[clas])\n",
    "    _valid_X = add_chain_feat(_valid_X, valid_pred_Y)\n",
    "\n",
    "    chain_train_scores[cls_ind][reg_ind] = roc_auc_score(train_df[clas], train_pred_Y)\n",
    "    chain_valid_scores[cls_ind][reg_ind] = roc_auc_score(valid_df[clas], valid_pred_Y)\n",
    "    \n",
    "    \n",
    "    \n",
    "    saveobj(chain_train_scores, trainfile)\n",
    "    saveobj(chain_valid_scores, testfile)\n",
    "\n",
    "#     print(\"class: {}: training score is {}, validation score is {}\".format(clas, chain_train_scores[cls_ind], chain_valid_scores[cls_ind]))"
   ]
  },
  {
   "cell_type": "markdown",
   "metadata": {
    "colab_type": "text",
    "id": "JC2vSXkSg59d"
   },
   "source": [
    "The result of chain model does not show improvement in validation score. Therefore, we decide to use the binary model directly."
   ]
  },
  {
   "cell_type": "markdown",
   "metadata": {
    "colab_type": "text",
    "id": "NP_IJs22RitE"
   },
   "source": [
    "## Chain Model with tuned reg coefficient"
   ]
  },
  {
   "cell_type": "code",
   "execution_count": 1,
   "metadata": {
    "colab": {
     "base_uri": "https://localhost:8080/",
     "height": 235
    },
    "colab_type": "code",
    "executionInfo": {
     "elapsed": 554,
     "status": "error",
     "timestamp": 1560488304342,
     "user": {
      "displayName": "Tzu-Yu Chao",
      "photoUrl": "",
      "userId": "06495158750541729419"
     },
     "user_tz": 420
    },
    "id": "D5Z5ZCN_wxxI",
    "outputId": "16ebb223-e6ef-4bdb-aad9-2709e17d1eb4"
   },
   "outputs": [
    {
     "ename": "NameError",
     "evalue": "ignored",
     "output_type": "error",
     "traceback": [
      "\u001b[0;31m---------------------------------------------------------------------------\u001b[0m",
      "\u001b[0;31mNameError\u001b[0m                                 Traceback (most recent call last)",
      "\u001b[0;32m<ipython-input-1-72643a53c067>\u001b[0m in \u001b[0;36m<module>\u001b[0;34m()\u001b[0m\n\u001b[1;32m      3\u001b[0m \u001b[0mreordered_cls\u001b[0m \u001b[0;34m=\u001b[0m \u001b[0;34m[\u001b[0m\u001b[0;34m'obscene'\u001b[0m\u001b[0;34m,\u001b[0m \u001b[0;34m'insult'\u001b[0m\u001b[0;34m,\u001b[0m \u001b[0;34m'toxic'\u001b[0m\u001b[0;34m]\u001b[0m\u001b[0;34m\u001b[0m\u001b[0;34m\u001b[0m\u001b[0m\n\u001b[1;32m      4\u001b[0m \u001b[0;34m\u001b[0m\u001b[0m\n\u001b[0;32m----> 5\u001b[0;31m \u001b[0mchain_train_scores\u001b[0m \u001b[0;34m=\u001b[0m \u001b[0mnp\u001b[0m\u001b[0;34m.\u001b[0m\u001b[0mzeros\u001b[0m\u001b[0;34m(\u001b[0m\u001b[0mlen\u001b[0m\u001b[0;34m(\u001b[0m\u001b[0mreordered_cls\u001b[0m\u001b[0;34m)\u001b[0m\u001b[0;34m)\u001b[0m\u001b[0;34m\u001b[0m\u001b[0;34m\u001b[0m\u001b[0m\n\u001b[0m\u001b[1;32m      6\u001b[0m \u001b[0mchain_valid_scores\u001b[0m \u001b[0;34m=\u001b[0m \u001b[0mnp\u001b[0m\u001b[0;34m.\u001b[0m\u001b[0mzeros\u001b[0m\u001b[0;34m(\u001b[0m\u001b[0mlen\u001b[0m\u001b[0;34m(\u001b[0m\u001b[0mreordered_cls\u001b[0m\u001b[0;34m)\u001b[0m\u001b[0;34m)\u001b[0m\u001b[0;34m\u001b[0m\u001b[0;34m\u001b[0m\u001b[0m\n\u001b[1;32m      7\u001b[0m \u001b[0mchain_test_scores\u001b[0m \u001b[0;34m=\u001b[0m \u001b[0mnp\u001b[0m\u001b[0;34m.\u001b[0m\u001b[0mzeros\u001b[0m\u001b[0;34m(\u001b[0m\u001b[0mlen\u001b[0m\u001b[0;34m(\u001b[0m\u001b[0mreordered_cls\u001b[0m\u001b[0;34m)\u001b[0m\u001b[0;34m)\u001b[0m\u001b[0;34m\u001b[0m\u001b[0;34m\u001b[0m\u001b[0m\n",
      "\u001b[0;31mNameError\u001b[0m: name 'np' is not defined"
     ]
    }
   ],
   "source": [
    "cls_reg_coeff = {'toxic': 1, \"severe_toxic\": 2, \"obscene\": 1, \"threat\": 2.5, \"insult\": 1, \"identity_hate\": 2}\n",
    "\n",
    "reordered_cls = ['obscene', 'insult', 'toxic']\n",
    "\n",
    "chain_train_scores = np.zeros(len(reordered_cls))\n",
    "chain_valid_scores = np.zeros(len(reordered_cls))\n",
    "chain_test_scores = np.zeros(len(reordered_cls))\n",
    "\n",
    "chain_test_predict = pd.DataFrame.from_dict({'id': test_df['id']})\n",
    "\n",
    "_train_X, _valid_X, _test_X = train_X, valid_X, test_X\n",
    "\n",
    "add_chain_feat = lambda X, new_feat: hstack([X, csr_matrix(new_feat).T], 'csr')\n",
    "\n",
    "for cls_ind, clas in enumerate(reordered_cls):\n",
    "  reg = cls_reg_coeff[clas]\n",
    "  classifier = LogisticRegression(C = 1/reg, solver='sag') #, random_state = i \n",
    "\n",
    "\n",
    "  classifier.fit(_train_X, train_df[clas])\n",
    "  train_pred_Y = classifier.predict_proba(_train_X)[:, 1]\n",
    "  valid_pred_Y = classifier.predict_proba(_valid_X)[:, 1]\n",
    "  chain_test_predict[clas] = classifier.predict_proba(_test_X)[:, 1]\n",
    "  \n",
    "  _train_X = add_chain_feat(_train_X, train_df[clas])\n",
    "  _valid_X = add_chain_feat(_valid_X, valid_pred_Y)\n",
    "  _test_X = add_chain_feat(_test_X, chain_test_predict[clas])\n",
    "  \n",
    "  chain_train_scores[cls_ind] = roc_auc_score(train_df[clas], train_pred_Y)\n",
    "  chain_valid_scores[cls_ind] = roc_auc_score(valid_df[clas], valid_pred_Y)\n",
    "  chain_test_scores[cls_ind]  = roc_auc_score(test_df[clas], chain_test_predict[clas])\n",
    "  \n",
    "  print(\"{}: train_score {}, valid_score {}, test_scores {}\".format(clas,\\\n",
    "                                                                    chain_train_scores[cls_ind], chain_valid_scores[cls_ind],\n",
    "                                                                    chain_test_scores[cls_ind]) )\n",
    "print(\"avg: train_score {}, valid_score {}, test_scores {}\".format(\n",
    "                                                                np.mean(chain_train_scores[cls_ind]), np.mean(chain_valid_scores[cls_ind]),\n",
    "                                                                np.mean(chain_test_scores[cls_ind])) )\n",
    "  \n",
    "  \n",
    "  "
   ]
  },
  {
   "cell_type": "code",
   "execution_count": 0,
   "metadata": {
    "colab": {
     "base_uri": "https://localhost:8080/",
     "height": 35
    },
    "colab_type": "code",
    "executionInfo": {
     "elapsed": 476,
     "status": "ok",
     "timestamp": 1560482706300,
     "user": {
      "displayName": "Tzu-Yu Chao",
      "photoUrl": "",
      "userId": "06495158750541729419"
     },
     "user_tz": 420
    },
    "id": "CENUmmEVWXoI",
    "outputId": "62816941-5271-4491-8e6c-689c03f44b94"
   },
   "outputs": [
    {
     "name": "stdout",
     "output_type": "stream",
     "text": [
      "avg: train_score 0.9893483426451878, valid_score 0.9713061597561016, test_scores 0.9604171361197116\n"
     ]
    }
   ],
   "source": []
  }
 ],
 "metadata": {
  "accelerator": "GPU",
  "colab": {
   "collapsed_sections": [],
   "name": "logisitc.ipynb",
   "provenance": [],
   "version": "0.3.2"
  },
  "kernelspec": {
   "display_name": "Python 3",
   "language": "python",
   "name": "python3"
  },
  "language_info": {
   "codemirror_mode": {
    "name": "ipython",
    "version": 3
   },
   "file_extension": ".py",
   "mimetype": "text/x-python",
   "name": "python",
   "nbconvert_exporter": "python",
   "pygments_lexer": "ipython3",
   "version": "3.7.3"
  }
 },
 "nbformat": 4,
 "nbformat_minor": 1
}
