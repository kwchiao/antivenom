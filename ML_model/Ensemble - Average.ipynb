{
 "cells": [
  {
   "cell_type": "code",
   "execution_count": 0,
   "metadata": {
    "colab": {
     "base_uri": "https://localhost:8080/",
     "height": 55
    },
    "colab_type": "code",
    "executionInfo": {
     "elapsed": 355,
     "status": "ok",
     "timestamp": 1560145452654,
     "user": {
      "displayName": "Kuo-Wei Michael Chiao",
      "photoUrl": "",
      "userId": "12454134270468782567"
     },
     "user_tz": 420
    },
    "id": "ErWdIs1P4Mlg",
    "outputId": "1e0b65f4-c150-44cc-c943-5954229784b9"
   },
   "outputs": [
    {
     "name": "stdout",
     "output_type": "stream",
     "text": [
      "Drive already mounted at /content/gdrive; to attempt to forcibly remount, call drive.mount(\"/content/gdrive\", force_remount=True).\n"
     ]
    }
   ],
   "source": [
    "from google.colab import drive\n",
    "drive.mount('/content/gdrive')"
   ]
  },
  {
   "cell_type": "code",
   "execution_count": 0,
   "metadata": {
    "colab": {},
    "colab_type": "code",
    "id": "JI581wRc4v3E"
   },
   "outputs": [],
   "source": [
    "import sys\n",
    "path = '/content/gdrive/Team Drives/cs273p project'\n",
    "sys.path.append(path)"
   ]
  },
  {
   "cell_type": "code",
   "execution_count": 0,
   "metadata": {
    "colab": {
     "base_uri": "https://localhost:8080/",
     "height": 52
    },
    "colab_type": "code",
    "executionInfo": {
     "elapsed": 1251,
     "status": "ok",
     "timestamp": 1560145991874,
     "user": {
      "displayName": "Kuo-Wei Michael Chiao",
      "photoUrl": "",
      "userId": "12454134270468782567"
     },
     "user_tz": 420
    },
    "id": "XQDPJRyT44-b",
    "outputId": "ee4d17dd-b27e-43b3-e7e4-a7be4b8e4920"
   },
   "outputs": [
    {
     "name": "stdout",
     "output_type": "stream",
     "text": [
      "[nltk_data] Downloading package wordnet to /root/nltk_data...\n",
      "[nltk_data]   Package wordnet is already up-to-date!\n"
     ]
    }
   ],
   "source": [
    "%matplotlib inline\n",
    "import numpy as np\n",
    "import pandas as pd\n",
    "import seaborn as sns\n",
    "from matplotlib import pyplot as plt\n",
    "\n",
    "import re\n",
    "from nltk.stem import WordNetLemmatizer \n",
    "import nltk\n",
    "nltk.download('wordnet') \n",
    "\n",
    "from sklearn.feature_extraction.text import TfidfVectorizer\n",
    "from scipy.sparse import csr_matrix, hstack\n",
    "from sklearn.model_selection import cross_val_score\n",
    "from sklearn.linear_model import LogisticRegression"
   ]
  },
  {
   "cell_type": "code",
   "execution_count": 0,
   "metadata": {
    "colab": {
     "base_uri": "https://localhost:8080/",
     "height": 35
    },
    "colab_type": "code",
    "executionInfo": {
     "elapsed": 1817,
     "status": "ok",
     "timestamp": 1560145995278,
     "user": {
      "displayName": "Kuo-Wei Michael Chiao",
      "photoUrl": "",
      "userId": "12454134270468782567"
     },
     "user_tz": 420
    },
    "id": "5s6wznUGEI-J",
    "outputId": "ef99c00e-af43-4fdc-ae32-38c360adf14f"
   },
   "outputs": [
    {
     "name": "stderr",
     "output_type": "stream",
     "text": [
      "Using TensorFlow backend.\n"
     ]
    }
   ],
   "source": [
    "import sys, os, re, csv, codecs, numpy as np, pandas as pd\n",
    "import matplotlib.pyplot as plt\n",
    "%matplotlib inline\n",
    "from keras.preprocessing.text import Tokenizer\n",
    "from keras.preprocessing.sequence import pad_sequences\n",
    "from keras.layers import Dense, Input, LSTM, Embedding, Dropout, Activation, GRU\n",
    "from keras.layers import Bidirectional, GlobalMaxPool1D, Conv1D, MaxPooling1D\n",
    "from keras.models import Model, Sequential, load_model\n",
    "from keras.callbacks import EarlyStopping\n",
    "\n",
    "from keras import initializers, regularizers, constraints, optimizers, layers\n",
    "\n",
    "from sklearn.metrics import roc_auc_score"
   ]
  },
  {
   "cell_type": "code",
   "execution_count": 0,
   "metadata": {
    "colab": {},
    "colab_type": "code",
    "id": "V2j7RQaaEOaQ"
   },
   "outputs": [],
   "source": [
    "import pickle\n",
    "\n",
    "def saveobj(save_list, filename):\n",
    "    with open(path + '/' + filename, 'wb') as f:  # Python 3: open(..., 'wb')\n",
    "        pickle.dump(save_list, f)\n",
    "        \n",
    "# restore object        \n",
    "def loadobj(filename):\n",
    "    with open(path + '/' + filename, 'rb') as f:  # Python 3: open(..., 'rb')\n",
    "        li = pickle.load(f)\n",
    "    return li"
   ]
  },
  {
   "cell_type": "code",
   "execution_count": 0,
   "metadata": {
    "colab": {},
    "colab_type": "code",
    "id": "vXkiYewM5MaF"
   },
   "outputs": [],
   "source": [
    "classes = ['toxic', 'severe_toxic', 'obscene', 'threat', 'insult', 'identity_hate']"
   ]
  },
  {
   "cell_type": "markdown",
   "metadata": {
    "colab_type": "text",
    "id": "cHU7cbdRAzzA"
   },
   "source": [
    "## Preprocessing"
   ]
  },
  {
   "cell_type": "code",
   "execution_count": 0,
   "metadata": {
    "colab": {},
    "colab_type": "code",
    "id": "NqoayBNGnY_X"
   },
   "outputs": [],
   "source": [
    "# load preprocessed pickle\n",
    "train_df, valid_df, test_df = loadobj('data/filtered_comment_pickle')"
   ]
  },
  {
   "cell_type": "markdown",
   "metadata": {
    "colab_type": "text",
    "id": "H4_z5fbFj-18"
   },
   "source": [
    "## Vectorized and Transform "
   ]
  },
  {
   "cell_type": "markdown",
   "metadata": {
    "colab_type": "text",
    "id": "JUwjX7n0eIHy"
   },
   "source": [
    "### NN Tokenizing/Indexing/Index Representation"
   ]
  },
  {
   "cell_type": "code",
   "execution_count": 0,
   "metadata": {
    "colab": {},
    "colab_type": "code",
    "id": "3aHtwdlTK9lz"
   },
   "outputs": [],
   "source": [
    "Y_te = test_df[classes].values"
   ]
  },
  {
   "cell_type": "markdown",
   "metadata": {
    "colab_type": "text",
    "id": "qugqxWlszEtV"
   },
   "source": [
    "rnn test/validation prediction data ready"
   ]
  },
  {
   "cell_type": "markdown",
   "metadata": {
    "colab_type": "text",
    "id": "5JwaN0ZdDCyR"
   },
   "source": [
    "### Load all datasets \n",
    " - Random Forrest\n",
    " - Logistic Regression\n",
    " - RNN\n",
    " - CNN"
   ]
  },
  {
   "cell_type": "code",
   "execution_count": 0,
   "metadata": {
    "colab": {},
    "colab_type": "code",
    "id": "wlLzWvtnDJox"
   },
   "outputs": [],
   "source": [
    "rf_test = pd.read_csv(path + '/output/random_forest/prob_random_forest_test_submission.csv', index_col = 'id').drop('Unnamed: 0', axis = 1)\n",
    "lg_test = pd.read_csv(path + '/output/logistic/prob_logistic_test_submission.csv', index_col = 'id').drop('Unnamed: 0', axis = 1)\n",
    "rnn_test = pd.read_csv(path + '/output/neural network/prob_RNN_test_submission.csv', index_col = 'id')\n",
    "cnn_test = pd.read_csv(path + '/output/neural network/prob_CNN_test_submission.csv', index_col = 'id')"
   ]
  },
  {
   "cell_type": "markdown",
   "metadata": {
    "colab_type": "text",
    "id": "OZZMszuj2kvk"
   },
   "source": [
    "Calcuate average"
   ]
  },
  {
   "cell_type": "code",
   "execution_count": 0,
   "metadata": {
    "colab": {
     "base_uri": "https://localhost:8080/",
     "height": 140
    },
    "colab_type": "code",
    "executionInfo": {
     "elapsed": 516,
     "status": "ok",
     "timestamp": 1560150813823,
     "user": {
      "displayName": "Kuo-Wei Michael Chiao",
      "photoUrl": "",
      "userId": "12454134270468782567"
     },
     "user_tz": 420
    },
    "id": "0lZDFXHiDPVR",
    "outputId": "e5ca764d-c293-4b5f-8468-983d7bc08dc7"
   },
   "outputs": [
    {
     "name": "stdout",
     "output_type": "stream",
     "text": [
      "toxic :  0.9697077508711686\n",
      "severe_toxic :  0.9890114201881951\n",
      "obscene :  0.9808517433117953\n",
      "threat :  0.9903604555001297\n",
      "insult :  0.9769303804686307\n",
      "identity_hate :  0.9873425898924356\n",
      "Total CV score is 0.9823673900387258\n"
     ]
    }
   ],
   "source": [
    "scores = []\n",
    "for i, c in enumerate(classes):\n",
    "    y_avg = (rf_test[c] + lg_test[c] + rnn_test[c] + cnn_test[c]) / 4\n",
    "    cv_score = roc_auc_score(Y_te[:,i], y_avg)\n",
    "    scores.append(cv_score)\n",
    "    print (c, ': ', cv_score)\n",
    "    \n",
    "print('Total CV score is {}'.format(np.mean(scores)))"
   ]
  },
  {
   "cell_type": "code",
   "execution_count": 0,
   "metadata": {
    "colab": {
     "base_uri": "https://localhost:8080/",
     "height": 140
    },
    "colab_type": "code",
    "executionInfo": {
     "elapsed": 740,
     "status": "ok",
     "timestamp": 1560150844515,
     "user": {
      "displayName": "Kuo-Wei Michael Chiao",
      "photoUrl": "",
      "userId": "12454134270468782567"
     },
     "user_tz": 420
    },
    "id": "ESfD_zypy6L8",
    "outputId": "48559fae-3ab8-4953-be5f-e60ccd691cd2"
   },
   "outputs": [
    {
     "name": "stdout",
     "output_type": "stream",
     "text": [
      "toxic :  0.9708805268380775\n",
      "severe_toxic :  0.9896899740191115\n",
      "obscene :  0.9814086253015059\n",
      "threat :  0.9903790361785877\n",
      "insult :  0.9776659463082525\n",
      "identity_hate :  0.987711129253798\n",
      "Total CV score is 0.9829558729832222\n"
     ]
    }
   ],
   "source": [
    "scores = []\n",
    "for i, c in enumerate(classes):\n",
    "    y_avg = (lg_test[c] + rnn_test[c] + cnn_test[c]) / 3\n",
    "    cv_score = roc_auc_score(Y_te[:,i], y_avg)\n",
    "    scores.append(cv_score)\n",
    "    print (c, ': ', cv_score)\n",
    "    \n",
    "print('Total CV score is {}'.format(np.mean(scores)))"
   ]
  },
  {
   "cell_type": "code",
   "execution_count": 0,
   "metadata": {
    "colab": {
     "base_uri": "https://localhost:8080/",
     "height": 140
    },
    "colab_type": "code",
    "executionInfo": {
     "elapsed": 597,
     "status": "ok",
     "timestamp": 1560150861388,
     "user": {
      "displayName": "Kuo-Wei Michael Chiao",
      "photoUrl": "",
      "userId": "12454134270468782567"
     },
     "user_tz": 420
    },
    "id": "Ipn90UziPH0B",
    "outputId": "0d25fc89-96f1-423a-b686-0c970e4795b3"
   },
   "outputs": [
    {
     "name": "stdout",
     "output_type": "stream",
     "text": [
      "toxic :  0.9688783280391511\n",
      "severe_toxic :  0.9891379984705232\n",
      "obscene :  0.9799549762234799\n",
      "threat :  0.9895495203695146\n",
      "insult :  0.9761590811146295\n",
      "identity_hate :  0.9876357608343158\n",
      "Total CV score is 0.9818859441752691\n"
     ]
    }
   ],
   "source": [
    "scores = []\n",
    "for i, c in enumerate(classes):\n",
    "    y_avg = (lg_test[c] + rnn_test[c]) / 2\n",
    "    cv_score = roc_auc_score(Y_te[:,i], y_avg)\n",
    "    scores.append(cv_score)\n",
    "    print (c, ': ', cv_score)\n",
    "    \n",
    "print('Total CV score is {}'.format(np.mean(scores)))"
   ]
  },
  {
   "cell_type": "code",
   "execution_count": 0,
   "metadata": {
    "colab": {
     "base_uri": "https://localhost:8080/",
     "height": 140
    },
    "colab_type": "code",
    "executionInfo": {
     "elapsed": 486,
     "status": "ok",
     "timestamp": 1560150896620,
     "user": {
      "displayName": "Kuo-Wei Michael Chiao",
      "photoUrl": "",
      "userId": "12454134270468782567"
     },
     "user_tz": 420
    },
    "id": "7ZwHkAcRPTMi",
    "outputId": "ba347ec2-6d00-4bd8-a84e-bf895161f9df"
   },
   "outputs": [
    {
     "name": "stdout",
     "output_type": "stream",
     "text": [
      "toxic :  0.9703033251004601\n",
      "severe_toxic :  0.9896030183801519\n",
      "obscene :  0.9803565997823012\n",
      "threat :  0.9881970699459236\n",
      "insult :  0.9770426458699766\n",
      "identity_hate :  0.9859493064240622\n",
      "Total CV score is 0.9819086609171458\n"
     ]
    }
   ],
   "source": [
    "scores = []\n",
    "for i, c in enumerate(classes):\n",
    "    y_avg = (rnn_test[c] + cnn_test[c]) / 2\n",
    "    cv_score = roc_auc_score(Y_te[:,i], y_avg)\n",
    "    scores.append(cv_score)\n",
    "    print (c, ': ', cv_score)\n",
    "    \n",
    "print('Total CV score is {}'.format(np.mean(scores)))"
   ]
  }
 ],
 "metadata": {
  "accelerator": "GPU",
  "colab": {
   "collapsed_sections": [],
   "name": "Ensemble - Average.ipynb",
   "provenance": [],
   "version": "0.3.2"
  },
  "kernelspec": {
   "display_name": "Python 3",
   "language": "python",
   "name": "python3"
  },
  "language_info": {
   "codemirror_mode": {
    "name": "ipython",
    "version": 3
   },
   "file_extension": ".py",
   "mimetype": "text/x-python",
   "name": "python",
   "nbconvert_exporter": "python",
   "pygments_lexer": "ipython3",
   "version": "3.7.3"
  }
 },
 "nbformat": 4,
 "nbformat_minor": 1
}
